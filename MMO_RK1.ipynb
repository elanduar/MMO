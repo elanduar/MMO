{
 "cells": [
  {
   "cell_type": "markdown",
   "id": "e9c94478",
   "metadata": {},
   "source": [
    "### Рубежный контроль №1 «Методы обработки данных»\n",
    "https://github.com/ugapanyuk/courses_current/wiki/MMO_RK_1\n",
    "* Студент — Коценко А.А.\n",
    "* Группа — ИУ5-22М\n",
    "* Вариант — 9\n",
    "* Номер задачи №1 — 9\n",
    "* Номер задачи №2 — 29\n",
    "\n",
    "Дополнительные требования для группы ИУ5-22М:\n",
    "* Для произвольной колонки данных постройте гистограмму\n",
    "* https://nbviewer.org/github/ugapanyuk/courses_current/blob/main/notebooks/eda/eda_visualization.ipynb\n",
    "\n",
    "Задача №9:\n",
    "* Для набора данных проведите устранение пропусков для одного (произвольного) числового признака с использованием метода заполнения \"хвостом распределения\".\n",
    "* https://nbviewer.org/github/ugapanyuk/courses_current/blob/main/notebooks/features/missing.ipynb\n",
    "\n",
    "Задача №29:\n",
    "\n",
    "* Для набора данных проведите удаление константных и псевдоконстантных признаков.\n",
    "* https://nbviewer.jupyter.org/github/ugapanyuk/courses_current/blob/main/notebooks/features/selection.ipynb"
   ]
  },
  {
   "cell_type": "markdown",
   "id": "723429dd",
   "metadata": {},
   "source": [
    "### Загрузка данных\n",
    "* Perth Metropolitan Area House Prices\n",
    "* https://www.kaggle.com/datasets/syuzai/perth-house-prices"
   ]
  },
  {
   "cell_type": "code",
   "execution_count": 1,
   "id": "1186871b",
   "metadata": {},
   "outputs": [],
   "source": [
    "import numpy as np\n",
    "import pandas as pd\n",
    "import seaborn as sns\n",
    "from sklearn.impute import SimpleImputer\n",
    "from sklearn.impute import MissingIndicator\n",
    "from sklearn.feature_selection import VarianceThreshold"
   ]
  },
  {
   "cell_type": "code",
   "execution_count": 2,
   "id": "332eb7b8",
   "metadata": {},
   "outputs": [
    {
     "data": {
      "text/plain": [
       "(33656, 19)"
      ]
     },
     "execution_count": 2,
     "metadata": {},
     "output_type": "execute_result"
    }
   ],
   "source": [
    "hdata = pd.read_csv('all_perth_310121.csv',sep=\",\")\n",
    "hdata.shape"
   ]
  },
  {
   "cell_type": "code",
   "execution_count": 3,
   "id": "4d30a8cc",
   "metadata": {},
   "outputs": [
    {
     "data": {
      "text/plain": [
       "ADDRESS                 0\n",
       "SUBURB                  0\n",
       "PRICE                   0\n",
       "BEDROOMS                0\n",
       "BATHROOMS               0\n",
       "GARAGE               2478\n",
       "LAND_AREA               0\n",
       "FLOOR_AREA              0\n",
       "BUILD_YEAR           3155\n",
       "CBD_DIST                0\n",
       "NEAREST_STN             0\n",
       "NEAREST_STN_DIST        0\n",
       "DATE_SOLD               0\n",
       "POSTCODE                0\n",
       "LATITUDE                0\n",
       "LONGITUDE               0\n",
       "NEAREST_SCH             0\n",
       "NEAREST_SCH_DIST        0\n",
       "NEAREST_SCH_RANK    10952\n",
       "dtype: int64"
      ]
     },
     "execution_count": 3,
     "metadata": {},
     "output_type": "execute_result"
    }
   ],
   "source": [
    "hdata.isnull().sum()"
   ]
  },
  {
   "cell_type": "code",
   "execution_count": 4,
   "id": "0a6ded24",
   "metadata": {},
   "outputs": [
    {
     "data": {
      "text/plain": [
       "ADDRESS              object\n",
       "SUBURB               object\n",
       "PRICE                 int64\n",
       "BEDROOMS              int64\n",
       "BATHROOMS             int64\n",
       "GARAGE              float64\n",
       "LAND_AREA             int64\n",
       "FLOOR_AREA            int64\n",
       "BUILD_YEAR          float64\n",
       "CBD_DIST              int64\n",
       "NEAREST_STN          object\n",
       "NEAREST_STN_DIST      int64\n",
       "DATE_SOLD            object\n",
       "POSTCODE              int64\n",
       "LATITUDE            float64\n",
       "LONGITUDE           float64\n",
       "NEAREST_SCH          object\n",
       "NEAREST_SCH_DIST    float64\n",
       "NEAREST_SCH_RANK    float64\n",
       "dtype: object"
      ]
     },
     "execution_count": 4,
     "metadata": {},
     "output_type": "execute_result"
    }
   ],
   "source": [
    "hdata.dtypes"
   ]
  },
  {
   "cell_type": "markdown",
   "id": "6a8e87bd",
   "metadata": {},
   "source": [
    "### Гистограмма"
   ]
  },
  {
   "cell_type": "code",
   "execution_count": 5,
   "id": "b209f985",
   "metadata": {},
   "outputs": [
    {
     "data": {
      "text/plain": [
       "<seaborn.axisgrid.FacetGrid at 0x2085bd1b700>"
      ]
     },
     "execution_count": 5,
     "metadata": {},
     "output_type": "execute_result"
    },
    {
     "data": {
      "image/png": "[encoded data removed]",
      "text/plain": [
       "<Figure size 360x360 with 1 Axes>"
      ]
     },
     "metadata": {
      "needs_background": "light"
     },
     "output_type": "display_data"
    }
   ],
   "source": [
    "sns.displot(hdata['GARAGE'])"
   ]
  },
  {
   "cell_type": "code",
   "execution_count": 6,
   "id": "5e8f2252",
   "metadata": {},
   "outputs": [
    {
     "data": {
      "text/plain": [
       "<seaborn.axisgrid.FacetGrid at 0x2085bd1bd00>"
      ]
     },
     "execution_count": 6,
     "metadata": {},
     "output_type": "execute_result"
    },
    {
     "data": {
      "image/png": "[encoded data removed]",
      "text/plain": [
       "<Figure size 360x360 with 1 Axes>"
      ]
     },
     "metadata": {
      "needs_background": "light"
     },
     "output_type": "display_data"
    }
   ],
   "source": [
    "sns.displot(hdata['BUILD_YEAR'])"
   ]
  },
  {
   "cell_type": "code",
   "execution_count": 7,
   "id": "1265c713",
   "metadata": {},
   "outputs": [
    {
     "data": {
      "text/plain": [
       "<seaborn.axisgrid.FacetGrid at 0x2085cc27280>"
      ]
     },
     "execution_count": 7,
     "metadata": {},
     "output_type": "execute_result"
    },
    {
     "data": {
      "image/png": "[encoded data removed]",
      "text/plain": [
       "<Figure size 360x360 with 1 Axes>"
      ]
     },
     "metadata": {
      "needs_background": "light"
     },
     "output_type": "display_data"
    }
   ],
   "source": [
    "sns.displot(hdata['NEAREST_SCH_RANK'])"
   ]
  },
  {
   "cell_type": "markdown",
   "id": "a8dc7fdd",
   "metadata": {},
   "source": [
    "##### Гистограммы построены"
   ]
  },
  {
   "cell_type": "markdown",
   "id": "37365eb8",
   "metadata": {},
   "source": [
    "### Заполнение «хвостом распределения»\n",
    "* Для ассиметричного распределения:\n",
    "* interquartile range IQR = Q3−Q1\n",
    "* extreme_value = Q3 + K * IQR, \n",
    "* Значение K обычно выбирается равным 1,5. Но для экстремальных выбросов выбирают K=3"
   ]
  },
  {
   "cell_type": "code",
   "execution_count": 8,
   "id": "9ba3ddca",
   "metadata": {},
   "outputs": [],
   "source": [
    "def impute_column(dataset, column, strategy_param, fill_value_param=None):\n",
    "    \"\"\"\n",
    "    Заполнение пропусков в одном признаке\n",
    "    \"\"\"\n",
    "    temp_data = dataset[[column]].values\n",
    "    size = temp_data.shape[0]\n",
    "    \n",
    "    indicator = MissingIndicator()\n",
    "    mask_missing_values_only = indicator.fit_transform(temp_data)\n",
    "    \n",
    "    imputer = SimpleImputer(strategy=strategy_param, \n",
    "                            fill_value=fill_value_param)\n",
    "    all_data = imputer.fit_transform(temp_data)\n",
    "    \n",
    "    missed_data = temp_data[mask_missing_values_only]\n",
    "    filled_data = all_data[mask_missing_values_only]\n",
    "    \n",
    "    return all_data.reshape((size,)), filled_data, missed_data"
   ]
  },
  {
   "cell_type": "code",
   "execution_count": 9,
   "id": "0305096f",
   "metadata": {},
   "outputs": [],
   "source": [
    "def research_impute_numeric_column(dataset, num_column, const_value=None):\n",
    "    strategy_params = ['mean', 'median', 'most_frequent', 'constant']\n",
    "    strategy_params_names = ['Среднее', 'Медиана', 'Мода']\n",
    "    strategy_params_names.append('Константа = ' + str(const_value))\n",
    "    \n",
    "    original_temp_data = dataset[[num_column]].values\n",
    "    size = original_temp_data.shape[0]\n",
    "    original_data = original_temp_data.reshape((size,))\n",
    "    \n",
    "    new_df = pd.DataFrame({'Исходные данные':original_data})\n",
    "       \n",
    "    for i in range(len(strategy_params)):\n",
    "        strategy = strategy_params[i]\n",
    "        col_name = strategy_params_names[i]\n",
    "        if (strategy!='constant') or (strategy == 'constant' and const_value!=None):\n",
    "            if strategy == 'constant':\n",
    "                temp_data, _, _ = impute_column(dataset, num_column, strategy, fill_value_param=const_value)\n",
    "            else:\n",
    "                temp_data, _, _ = impute_column(dataset, num_column, strategy)\n",
    "            new_df[col_name] = temp_data\n",
    "        \n",
    "    sns.kdeplot(data=new_df)"
   ]
  },
  {
   "cell_type": "code",
   "execution_count": 10,
   "id": "6427ad32",
   "metadata": {},
   "outputs": [
    {
     "name": "stdout",
     "output_type": "stream",
     "text": [
      "IQR=27.0, extreme_value=2086.0\n"
     ]
    }
   ],
   "source": [
    "# Ассиметричное\n",
    "IQR = hdata['BUILD_YEAR'].quantile(0.75) - hdata['BUILD_YEAR'].quantile(0.25)\n",
    "BuildYear_ev1 = hdata['BUILD_YEAR'].quantile(0.75) + 3*IQR\n",
    "print('IQR={}, extreme_value={}'.format(IQR, BuildYear_ev1))"
   ]
  },
  {
   "cell_type": "code",
   "execution_count": 11,
   "id": "c089cc56",
   "metadata": {},
   "outputs": [
    {
     "data": {
      "image/png": "[encoded data removed]",
      "text/plain": [
       "<Figure size 432x288 with 1 Axes>"
      ]
     },
     "metadata": {
      "needs_background": "light"
     },
     "output_type": "display_data"
    }
   ],
   "source": [
    "research_impute_numeric_column(hdata, 'BUILD_YEAR', BuildYear_ev1)"
   ]
  },
  {
   "cell_type": "code",
   "execution_count": 12,
   "id": "319e4884",
   "metadata": {},
   "outputs": [
    {
     "name": "stdout",
     "output_type": "stream",
     "text": [
      "IQR=27.0, extreme_value=2045.5\n"
     ]
    }
   ],
   "source": [
    "BuildYear_ev2 = hdata['BUILD_YEAR'].quantile(0.75) + 1.5*IQR\n",
    "print('IQR={}, extreme_value={}'.format(IQR, BuildYear_ev2))"
   ]
  },
  {
   "cell_type": "code",
   "execution_count": 13,
   "id": "ff7716a4",
   "metadata": {},
   "outputs": [
    {
     "data": {
      "image/png": "[encoded data removed]",
      "text/plain": [
       "<Figure size 432x288 with 1 Axes>"
      ]
     },
     "metadata": {
      "needs_background": "light"
     },
     "output_type": "display_data"
    }
   ],
   "source": [
    "research_impute_numeric_column(hdata, 'BUILD_YEAR', BuildYear_ev2)"
   ]
  },
  {
   "cell_type": "markdown",
   "id": "62b9ddbd",
   "metadata": {},
   "source": [
    "##### «Хвост распределения» найден"
   ]
  },
  {
   "cell_type": "markdown",
   "id": "1f7671e7",
   "metadata": {},
   "source": [
    "### Удаление константных и псевдоконстантных признаков"
   ]
  },
  {
   "cell_type": "code",
   "execution_count": 14,
   "id": "b9ffb419",
   "metadata": {},
   "outputs": [
    {
     "data": {
      "text/plain": [
       "[[1, 4, 17, 24],\n",
       " [2, 4, 17, 22],\n",
       " [3, 4, 17, 20],\n",
       " [4, 4, 17, 18],\n",
       " [5, 4, 17, 16],\n",
       " [6, 4, 17, 14],\n",
       " [7, 4, 18, 12],\n",
       " [8, 4, 17, 10]]"
      ]
     },
     "execution_count": 14,
     "metadata": {},
     "output_type": "execute_result"
    }
   ],
   "source": [
    "lst_arr = [[1,4,17,24],\n",
    "           [2,4,17,22],\n",
    "           [3,4,17,20],\n",
    "           [4,4,17,18],\n",
    "           [5,4,17,16],\n",
    "           [6,4,17,14],\n",
    "           [7,4,18,12],\n",
    "           [8,4,17,10]]\n",
    "lst_arr"
   ]
  },
  {
   "cell_type": "code",
   "execution_count": 15,
   "id": "59d049ed",
   "metadata": {},
   "outputs": [
    {
     "data": {
      "text/plain": [
       "array([[ 1,  4, 17, 24],\n",
       "       [ 2,  4, 17, 22],\n",
       "       [ 3,  4, 17, 20],\n",
       "       [ 4,  4, 17, 18],\n",
       "       [ 5,  4, 17, 16],\n",
       "       [ 6,  4, 17, 14],\n",
       "       [ 7,  4, 18, 12],\n",
       "       [ 8,  4, 17, 10]])"
      ]
     },
     "execution_count": 15,
     "metadata": {},
     "output_type": "execute_result"
    }
   ],
   "source": [
    "arr = np.array(lst_arr)\n",
    "arr"
   ]
  },
  {
   "cell_type": "code",
   "execution_count": 16,
   "id": "6fa2201e",
   "metadata": {},
   "outputs": [
    {
     "data": {
      "text/html": [
       "<div>\n",
       "<style scoped>\n",
       "    .dataframe tbody tr th:only-of-type {\n",
       "        vertical-align: middle;\n",
       "    }\n",
       "\n",
       "    .dataframe tbody tr th {\n",
       "        vertical-align: top;\n",
       "    }\n",
       "\n",
       "    .dataframe thead th {\n",
       "        text-align: right;\n",
       "    }\n",
       "</style>\n",
       "<table border=\"1\" class=\"dataframe\">\n",
       "  <thead>\n",
       "    <tr style=\"text-align: right;\">\n",
       "      <th></th>\n",
       "      <th>0</th>\n",
       "      <th>1</th>\n",
       "      <th>2</th>\n",
       "      <th>3</th>\n",
       "    </tr>\n",
       "  </thead>\n",
       "  <tbody>\n",
       "    <tr>\n",
       "      <th>0</th>\n",
       "      <td>1</td>\n",
       "      <td>4</td>\n",
       "      <td>17</td>\n",
       "      <td>24</td>\n",
       "    </tr>\n",
       "    <tr>\n",
       "      <th>1</th>\n",
       "      <td>2</td>\n",
       "      <td>4</td>\n",
       "      <td>17</td>\n",
       "      <td>22</td>\n",
       "    </tr>\n",
       "    <tr>\n",
       "      <th>2</th>\n",
       "      <td>3</td>\n",
       "      <td>4</td>\n",
       "      <td>17</td>\n",
       "      <td>20</td>\n",
       "    </tr>\n",
       "    <tr>\n",
       "      <th>3</th>\n",
       "      <td>4</td>\n",
       "      <td>4</td>\n",
       "      <td>17</td>\n",
       "      <td>18</td>\n",
       "    </tr>\n",
       "    <tr>\n",
       "      <th>4</th>\n",
       "      <td>5</td>\n",
       "      <td>4</td>\n",
       "      <td>17</td>\n",
       "      <td>16</td>\n",
       "    </tr>\n",
       "    <tr>\n",
       "      <th>5</th>\n",
       "      <td>6</td>\n",
       "      <td>4</td>\n",
       "      <td>17</td>\n",
       "      <td>14</td>\n",
       "    </tr>\n",
       "    <tr>\n",
       "      <th>6</th>\n",
       "      <td>7</td>\n",
       "      <td>4</td>\n",
       "      <td>18</td>\n",
       "      <td>12</td>\n",
       "    </tr>\n",
       "    <tr>\n",
       "      <th>7</th>\n",
       "      <td>8</td>\n",
       "      <td>4</td>\n",
       "      <td>17</td>\n",
       "      <td>10</td>\n",
       "    </tr>\n",
       "  </tbody>\n",
       "</table>\n",
       "</div>"
      ],
      "text/plain": [
       "   0  1   2   3\n",
       "0  1  4  17  24\n",
       "1  2  4  17  22\n",
       "2  3  4  17  20\n",
       "3  4  4  17  18\n",
       "4  5  4  17  16\n",
       "5  6  4  17  14\n",
       "6  7  4  18  12\n",
       "7  8  4  17  10"
      ]
     },
     "execution_count": 16,
     "metadata": {},
     "output_type": "execute_result"
    }
   ],
   "source": [
    "data = pd.DataFrame(arr)\n",
    "data"
   ]
  },
  {
   "cell_type": "code",
   "execution_count": 17,
   "id": "5b5accf8",
   "metadata": {},
   "outputs": [
    {
     "data": {
      "text/plain": [
       "VarianceThreshold(threshold=0.15)"
      ]
     },
     "execution_count": 17,
     "metadata": {},
     "output_type": "execute_result"
    }
   ],
   "source": [
    "selector = VarianceThreshold(threshold=0.15)\n",
    "selector.fit(data)\n",
    "selector"
   ]
  },
  {
   "cell_type": "code",
   "execution_count": 18,
   "id": "ad61028c",
   "metadata": {},
   "outputs": [
    {
     "data": {
      "text/plain": [
       "array([ 5.25    ,  0.      ,  0.109375, 21.      ])"
      ]
     },
     "execution_count": 18,
     "metadata": {},
     "output_type": "execute_result"
    }
   ],
   "source": [
    "# Значения дисперсий для каждого признака\n",
    "selector.variances_"
   ]
  },
  {
   "cell_type": "code",
   "execution_count": 19,
   "id": "b5cfb7e2",
   "metadata": {},
   "outputs": [
    {
     "data": {
      "text/plain": [
       "array([[ 1, 24],\n",
       "       [ 2, 22],\n",
       "       [ 3, 20],\n",
       "       [ 4, 18],\n",
       "       [ 5, 16],\n",
       "       [ 6, 14],\n",
       "       [ 7, 12],\n",
       "       [ 8, 10]])"
      ]
     },
     "execution_count": 19,
     "metadata": {},
     "output_type": "execute_result"
    }
   ],
   "source": [
    "arr_new = selector.transform(data)\n",
    "arr_new"
   ]
  },
  {
   "cell_type": "code",
   "execution_count": 20,
   "id": "630fb12a",
   "metadata": {},
   "outputs": [
    {
     "data": {
      "text/html": [
       "<div>\n",
       "<style scoped>\n",
       "    .dataframe tbody tr th:only-of-type {\n",
       "        vertical-align: middle;\n",
       "    }\n",
       "\n",
       "    .dataframe tbody tr th {\n",
       "        vertical-align: top;\n",
       "    }\n",
       "\n",
       "    .dataframe thead th {\n",
       "        text-align: right;\n",
       "    }\n",
       "</style>\n",
       "<table border=\"1\" class=\"dataframe\">\n",
       "  <thead>\n",
       "    <tr style=\"text-align: right;\">\n",
       "      <th></th>\n",
       "      <th>0</th>\n",
       "      <th>1</th>\n",
       "    </tr>\n",
       "  </thead>\n",
       "  <tbody>\n",
       "    <tr>\n",
       "      <th>0</th>\n",
       "      <td>1</td>\n",
       "      <td>24</td>\n",
       "    </tr>\n",
       "    <tr>\n",
       "      <th>1</th>\n",
       "      <td>2</td>\n",
       "      <td>22</td>\n",
       "    </tr>\n",
       "    <tr>\n",
       "      <th>2</th>\n",
       "      <td>3</td>\n",
       "      <td>20</td>\n",
       "    </tr>\n",
       "    <tr>\n",
       "      <th>3</th>\n",
       "      <td>4</td>\n",
       "      <td>18</td>\n",
       "    </tr>\n",
       "    <tr>\n",
       "      <th>4</th>\n",
       "      <td>5</td>\n",
       "      <td>16</td>\n",
       "    </tr>\n",
       "    <tr>\n",
       "      <th>5</th>\n",
       "      <td>6</td>\n",
       "      <td>14</td>\n",
       "    </tr>\n",
       "    <tr>\n",
       "      <th>6</th>\n",
       "      <td>7</td>\n",
       "      <td>12</td>\n",
       "    </tr>\n",
       "    <tr>\n",
       "      <th>7</th>\n",
       "      <td>8</td>\n",
       "      <td>10</td>\n",
       "    </tr>\n",
       "  </tbody>\n",
       "</table>\n",
       "</div>"
      ],
      "text/plain": [
       "   0   1\n",
       "0  1  24\n",
       "1  2  22\n",
       "2  3  20\n",
       "3  4  18\n",
       "4  5  16\n",
       "5  6  14\n",
       "6  7  12\n",
       "7  8  10"
      ]
     },
     "execution_count": 20,
     "metadata": {},
     "output_type": "execute_result"
    }
   ],
   "source": [
    "data_new = pd.DataFrame(arr_new)\n",
    "data_new"
   ]
  },
  {
   "cell_type": "markdown",
   "id": "cab83154",
   "metadata": {},
   "source": [
    "##### Константный и псевдоконстантный признаки удалены"
   ]
  }
 ],
 "metadata": {
  "kernelspec": {
   "display_name": "Python 3 (ipykernel)",
   "language": "python",
   "name": "python3"
  },
  "language_info": {
   "codemirror_mode": {
    "name": "ipython",
    "version": 3
   },
   "file_extension": ".py",
   "mimetype": "text/x-python",
   "name": "python",
   "nbconvert_exporter": "python",
   "pygments_lexer": "ipython3",
   "version": "3.9.7"
  }
 },
 "nbformat": 4,
 "nbformat_minor": 5
}
